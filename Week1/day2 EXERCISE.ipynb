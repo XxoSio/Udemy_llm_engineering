{
 "cells": [
  {
   "cell_type": "markdown",
   "id": "d15d8294-3328-4e07-ad16-8a03e9bbfdb9",
   "metadata": {},
   "source": [
    "# Welcome to your first assignment!\n",
    "\n",
    "Instructions are below. Please give this a try, and look in the solutions folder if you get stuck (or feel free to ask me!)"
   ]
  },
  {
   "cell_type": "markdown",
   "id": "ada885d9-4d42-4d9b-97f0-74fbbbfe93a9",
   "metadata": {},
   "source": [
    "<table style=\"margin: 0; text-align: left;\">\n",
    "    <tr>\n",
    "        <td style=\"width: 150px; height: 150px; vertical-align: middle;\">\n",
    "            <img src=\"../resources.jpg\" width=\"150\" height=\"150\" style=\"display: block;\" />\n",
    "        </td>\n",
    "        <td>\n",
    "            <h2 style=\"color:#f71;\">Just before we get to the assignment --</h2>\n",
    "            <span style=\"color:#f71;\">I thought I'd take a second to point you at this page of useful resources for the course. This includes links to all the slides.<br/>\n",
    "            <a href=\"https://edwarddonner.com/2024/11/13/llm-engineering-resources/\">https://edwarddonner.com/2024/11/13/llm-engineering-resources/</a><br/>\n",
    "            Please keep this bookmarked, and I'll continue to add more useful links there over time.\n",
    "            </span>\n",
    "        </td>\n",
    "    </tr>\n",
    "</table>"
   ]
  },
  {
   "cell_type": "markdown",
   "id": "6e9fa1fc-eac5-4d1d-9be4-541b3f2b3458",
   "metadata": {},
   "source": [
    "# HOMEWORK EXERCISE ASSIGNMENT\n",
    "\n",
    "Upgrade the day 1 project to summarize a webpage to use an Open Source model running locally via Ollama rather than OpenAI\n",
    "\n",
    "You'll be able to use this technique for all subsequent projects if you'd prefer not to use paid APIs.\n",
    "\n",
    "**Benefits:**\n",
    "1. No API charges - open-source\n",
    "2. Data doesn't leave your box\n",
    "\n",
    "**Disadvantages:**\n",
    "1. Significantly less power than Frontier Model\n",
    "\n",
    "## Recap on installation of Ollama\n",
    "\n",
    "Simply visit [ollama.com](https://ollama.com) and install!\n",
    "\n",
    "Once complete, the ollama server should already be running locally.  \n",
    "If you visit:  \n",
    "[http://localhost:11434/](http://localhost:11434/)\n",
    "\n",
    "You should see the message `Ollama is running`.  \n",
    "\n",
    "If not, bring up a new Terminal (Mac) or Powershell (Windows) and enter `ollama serve`  \n",
    "And in another Terminal (Mac) or Powershell (Windows), enter `ollama pull llama3.2`  \n",
    "Then try [http://localhost:11434/](http://localhost:11434/) again.\n",
    "\n",
    "If Ollama is slow on your machine, try using `llama3.2:1b` as an alternative. Run `ollama pull llama3.2:1b` from a Terminal or Powershell, and change the code below from `MODEL = \"llama3.2\"` to `MODEL = \"llama3.2:1b\"`"
   ]
  },
  {
   "cell_type": "code",
   "execution_count": 1,
   "id": "4e2a9393-7767-488e-a8bf-27c12dca35bd",
   "metadata": {},
   "outputs": [],
   "source": [
    "# imports\n",
    "\n",
    "import requests\n",
    "from bs4 import BeautifulSoup\n",
    "from IPython.display import Markdown, display"
   ]
  },
  {
   "cell_type": "code",
   "execution_count": 2,
   "id": "29ddd15d-a3c5-4f4e-a678-873f56162724",
   "metadata": {},
   "outputs": [],
   "source": [
    "# Constants\n",
    "\n",
    "OLLAMA_API = \"http://localhost:11434/api/chat\"\n",
    "HEADERS = {\"Content-Type\": \"application/json\"}\n",
    "MODEL = \"llama3.2\""
   ]
  },
  {
   "cell_type": "code",
   "execution_count": 3,
   "id": "dac0a679-599c-441f-9bf2-ddc73d35b940",
   "metadata": {},
   "outputs": [],
   "source": [
    "# Create a messages list using the same format that we used for OpenAI\n",
    "\n",
    "messages = [\n",
    "    {\"role\": \"user\", \"content\": \"Describe some of the business applications of Generative AI\"}\n",
    "]"
   ]
  },
  {
   "cell_type": "code",
   "execution_count": 4,
   "id": "7bb9c624-14f0-4945-a719-8ddb64f66f47",
   "metadata": {},
   "outputs": [],
   "source": [
    "payload = {\n",
    "        \"model\": MODEL,\n",
    "        \"messages\": messages,\n",
    "        \"stream\": False\n",
    "    }"
   ]
  },
  {
   "cell_type": "code",
   "execution_count": 5,
   "id": "479ff514-e8bd-4985-a572-2ea28bb4fa40",
   "metadata": {},
   "outputs": [
    {
     "name": "stdout",
     "output_type": "stream",
     "text": [
      "\u001b[?2026h\u001b[?25l\u001b[1Gpulling manifest ⠋ \u001b[K\u001b[?25h\u001b[?2026l\u001b[?2026h\u001b[?25l\u001b[1Gpulling manifest ⠙ \u001b[K\u001b[?25h\u001b[?2026l\u001b[?2026h\u001b[?25l\u001b[1Gpulling manifest ⠹ \u001b[K\u001b[?25h\u001b[?2026l\u001b[?2026h\u001b[?25l\u001b[1Gpulling manifest ⠸ \u001b[K\u001b[?25h\u001b[?2026l\u001b[?2026h\u001b[?25l\u001b[1Gpulling manifest ⠼ \u001b[K\u001b[?25h\u001b[?2026l\u001b[?2026h\u001b[?25l\u001b[1Gpulling manifest ⠴ \u001b[K\u001b[?25h\u001b[?2026l\u001b[?2026h\u001b[?25l\u001b[1Gpulling manifest ⠦ \u001b[K\u001b[?25h\u001b[?2026l\u001b[?2026h\u001b[?25l\u001b[1Gpulling manifest ⠧ \u001b[K\u001b[?25h\u001b[?2026l\u001b[?2026h\u001b[?25l\u001b[1Gpulling manifest ⠇ \u001b[K\u001b[?25h\u001b[?2026l\u001b[?2026h\u001b[?25l\u001b[1Gpulling manifest ⠏ \u001b[K\u001b[?25h\u001b[?2026l\u001b[?2026h\u001b[?25l\u001b[1Gpulling manifest ⠋ \u001b[K\u001b[?25h\u001b[?2026l\u001b[?2026h\u001b[?25l\u001b[1Gpulling manifest \u001b[K\n",
      "pulling dde5aa3fc5ff... 100% ▕████████████████▏ 2.0 GB                         \u001b[K\n",
      "pulling 966de95ca8a6... 100% ▕████████████████▏ 1.4 KB                         \u001b[K\n",
      "pulling fcc5a6bec9da... 100% ▕████████████████▏ 7.7 KB                         \u001b[K\n",
      "pulling a70ff7e570d9... 100% ▕████████████████▏ 6.0 KB                         \u001b[K\n",
      "pulling 56bb8bd477a5... 100% ▕████████████████▏   96 B                         \u001b[K\n",
      "pulling 34bb5ab01051... 100% ▕████████████████▏  561 B                         \u001b[K\n",
      "verifying sha256 digest \u001b[K\n",
      "writing manifest \u001b[K\n",
      "success \u001b[K\u001b[?25h\u001b[?2026l\n"
     ]
    }
   ],
   "source": [
    "# Let's just make sure the model is loaded\n",
    "\n",
    "!ollama pull llama3.2"
   ]
  },
  {
   "cell_type": "code",
   "execution_count": 6,
   "id": "42b9f644-522d-4e05-a691-56e7658c0ea9",
   "metadata": {
    "scrolled": true
   },
   "outputs": [
    {
     "name": "stdout",
     "output_type": "stream",
     "text": [
      "Generative AI has numerous business applications across various industries, including:\n",
      "\n",
      "1. **Content Creation**: AI-generated content such as images, videos, and text can be used to create engaging marketing materials, social media posts, and product descriptions.\n",
      "2. **Product Design**: Generative AI can assist in the design of new products by generating 3D models, product mockups, and even entire product lines.\n",
      "3. **Data Analysis**: Generative AI algorithms can analyze large datasets and identify patterns, anomalies, and trends that may not be visible to human analysts.\n",
      "4. **Customer Service Chatbots**: AI-powered chatbots can use generative AI to respond to customer inquiries, provide personalized support, and resolve issues more efficiently.\n",
      "5. **Marketing Automation**: Generative AI can generate personalized marketing campaigns, including emails, ads, and social media posts, based on user behavior and preferences.\n",
      "6. **Product Recommendations**: Generative AI algorithms can analyze customer data and recommend products that are likely to interest them.\n",
      "7. **Audio and Music Generation**: AI-powered audio tools can generate music, sound effects, and voiceovers for videos, podcasts, and other multimedia content.\n",
      "8. **Image Editing**: Generative AI can assist in image editing tasks such as removing blemishes, adjusting brightness and contrast, and even creating new images from scratch.\n",
      "9. **Business Writing**: AI-powered writing tools can generate business reports, proposals, and presentations based on a set of inputs or templates.\n",
      "10. **Predictive Maintenance**: Generative AI algorithms can analyze sensor data to predict equipment failures, reducing downtime and increasing overall efficiency.\n",
      "\n",
      "Some specific examples of businesses that are using generative AI include:\n",
      "\n",
      "* **Automotive companies**: Using generative AI to design new car models and generate 3D models for manufacturing.\n",
      "* **Fashion brands**: Using generative AI to create new designs, patterns, and even entire product lines.\n",
      "* **Retailers**: Using generative AI to analyze customer data and recommend personalized products and promotions.\n",
      "* **Healthcare companies**: Using generative AI to analyze medical images and generate diagnostic reports.\n",
      "\n",
      "These are just a few examples of the many business applications of generative AI. As the technology continues to evolve, we can expect to see even more innovative uses across various industries.\n"
     ]
    }
   ],
   "source": [
    "# If this doesn't work for any reason, try the 2 versions in the following cells\n",
    "# And double check the instructions in the 'Recap on installation of Ollama' at the top of this lab\n",
    "# And if none of that works - contact me!\n",
    "\n",
    "response = requests.post(OLLAMA_API, json=payload, headers=HEADERS)\n",
    "print(response.json()['message']['content'])"
   ]
  },
  {
   "cell_type": "markdown",
   "id": "6a021f13-d6a1-4b96-8e18-4eae49d876fe",
   "metadata": {},
   "source": [
    "# Introducing the ollama package\n",
    "\n",
    "And now we'll do the same thing, but using the elegant ollama python package instead of a direct HTTP call.\n",
    "\n",
    "Under the hood, it's making the same call as above to the ollama server running at localhost:11434"
   ]
  },
  {
   "cell_type": "code",
   "execution_count": 7,
   "id": "7745b9c4-57dc-4867-9180-61fa5db55eb8",
   "metadata": {
    "scrolled": true
   },
   "outputs": [
    {
     "name": "stdout",
     "output_type": "stream",
     "text": [
      "Generative AI has numerous business applications across various industries. Here are some examples:\n",
      "\n",
      "1. **Content Generation**: Generative AI can generate high-quality content such as blog posts, articles, social media posts, and product descriptions. This can help businesses save time and money on content creation.\n",
      "2. **Image and Video Generation**: Generative AI can create realistic images and videos that can be used for advertising, marketing, and other visual purposes. For example, companies can use Generative AI to generate fake customer reviews or testimonials.\n",
      "3. **Chatbots and Virtual Assistants**: Generative AI can power chatbots and virtual assistants that can provide 24/7 customer support, answer frequently asked questions, and help with simple transactions.\n",
      "4. **Product Design and Development**: Generative AI can be used to design new products, such as furniture, electronics, or even medical devices. This can help reduce the time and cost associated with traditional product development methods.\n",
      "5. **Marketing and Advertising**: Generative AI can help create targeted marketing campaigns by generating personalized ads based on customer data and behavior. It can also analyze social media conversations to identify trends and opportunities for engagement.\n",
      "6. **Personalization**: Generative AI can help businesses personalize their products, services, and experiences by generating customized content, recommendations, and offers.\n",
      "7. **Predictive Analytics**: Generative AI can be used to predict customer behavior, such as likelihood of churn or purchase intent, based on historical data and trends.\n",
      "8. **Data Augmentation**: Generative AI can help augment existing datasets by generating new, high-quality data that can improve machine learning models' performance.\n",
      "9. **Creative Writing and Journalism**: Generative AI can assist writers with research, organization, and even generating ideas for articles or stories.\n",
      "10. **Customer Service Automation**: Generative AI can help automate customer service processes by generating responses to common queries, routing complex issues to human agents, and providing personalized support.\n",
      "\n",
      "Some specific examples of businesses using Generative AI include:\n",
      "\n",
      "* **Amazon**: Uses Generative AI to generate product descriptions, reviews, and even fake customer testimonials.\n",
      "* **Disney**: Utilizes Generative AI to create new characters, animations, and special effects for movies and TV shows.\n",
      "* **Netflix**: Employs Generative AI to personalize movie recommendations based on user behavior and preferences.\n",
      "* **IBM**: Leverages Generative AI to generate new product designs, improve manufacturing processes, and enhance customer experiences.\n",
      "\n",
      "These are just a few examples of the many business applications of Generative AI. As the technology continues to evolve, we can expect to see even more innovative uses across various industries.\n"
     ]
    }
   ],
   "source": [
    "import ollama\n",
    "\n",
    "response = ollama.chat(model=MODEL, messages=messages)\n",
    "print(response['message']['content'])"
   ]
  },
  {
   "cell_type": "markdown",
   "id": "a4704e10-f5fb-4c15-a935-f046c06fb13d",
   "metadata": {},
   "source": [
    "## Alternative approach - using OpenAI python library to connect to Ollama"
   ]
  },
  {
   "cell_type": "code",
   "execution_count": 8,
   "id": "23057e00-b6fc-4678-93a9-6b31cb704bff",
   "metadata": {
    "scrolled": true
   },
   "outputs": [
    {
     "name": "stdout",
     "output_type": "stream",
     "text": [
      "Generative AI has numerous business applications across various industries. Here are some examples:\n",
      "\n",
      "1. **Content Generation**: Generative AI can create high-quality content such as articles, social media posts, product descriptions, and even entire books. This can reduce the workload on human writers and editors, freeing up resources for more strategic tasks.\n",
      "2. **Design and Visualization**: Generative AI can generate designs, logos, and visualizations for businesses, helping them visualize their brand identity and marketing materials without the need for extensive design expertise.\n",
      "3. **Customization and Personalization**: Generative AI can create personalized product recommendations, customer profiling, and even customized marketing messages based on individual preferences and behaviors.\n",
      "4. **Predictive Analytics**: Generative AI can analyze large datasets, identify patterns, and provide predictive insights to businesses, helping them make more informed decisions about sales, marketing, and resource allocation.\n",
      "5. **Product Recommendation Systems**: Generative AI-powered recommendation systems can suggest products or services tailored to a user's preferences, improving the overall shopping experience and increasing customer loyalty.\n",
      "6. **Virtual Assistants and Chatbots**: Generative AI can power conversational interfaces, enabling businesses to create highly personalized virtual assistants and chatbots that provide 24/7 support and assistance.\n",
      "7. **Media Production**: Generative AI can help with media production by generating audio tracks, music, or even entire scripts for videos or films.\n",
      "8. **Marketing Automation**: Generative AI can automate marketing tasks such as lead generation, email crafting, and content distribution, freeing up resources for more strategic marketing efforts.\n",
      "9. **Financial Analysis**: Generative AI can help businesses analyze financial data, identify trends, and make predictions about future market performance, enabling them to make more informed investment decisions.\n",
      "10. **Creative Writing and Editing**: Generative AI can assist human writers with ideas generation, content suggestions, and even post-processing editing tasks such as grammar correction and suggestion of alternative phrases.\n",
      "\n",
      "Some specific business examples of generative AI applications include:\n",
      "\n",
      "* **Netflix's Content Recommendation Algorithm**: Uses generative AI to generate personalized recommendations for its millions of subscribers.\n",
      "* **Amazon's Alexa Virtual Assistant**: Leverages generative AI to power conversational interactions with customers, providing personalized responses and suggestions.\n",
      "* **HubSpot's Blog Content Generator**: Utilizes generative AI to create high-quality blog content for businesses, reducing the workload on human writers.\n",
      "\n",
      "These are just a few examples of how Generative AI is being applied in business. As the technology continues to evolve, we can expect even more innovative applications across various industries.\n"
     ]
    }
   ],
   "source": [
    "# There's actually an alternative approach that some people might prefer\n",
    "# You can use the OpenAI client python library to call Ollama:\n",
    "\n",
    "from openai import OpenAI\n",
    "ollama_via_openai = OpenAI(base_url='http://localhost:11434/v1', api_key='ollama')\n",
    "\n",
    "response = ollama_via_openai.chat.completions.create(\n",
    "    model=MODEL,\n",
    "    messages=messages\n",
    ")\n",
    "\n",
    "print(response.choices[0].message.content)"
   ]
  },
  {
   "cell_type": "markdown",
   "id": "9f9e22da-b891-41f6-9ac9-bd0c0a5f4f44",
   "metadata": {},
   "source": [
    "## Are you confused about why that works?\n",
    "\n",
    "It seems strange, right? We just used OpenAI code to call Ollama?? What's going on?!\n",
    "\n",
    "Here's the scoop:\n",
    "\n",
    "The python class `OpenAI` is simply code written by OpenAI engineers that makes calls over the internet to an endpoint.  \n",
    "\n",
    "When you call `openai.chat.completions.create()`, this python code just makes a web request to the following url: \"https://api.openai.com/v1/chat/completions\"\n",
    "\n",
    "Code like this is known as a \"client library\" - it's just wrapper code that runs on your machine to make web requests. The actual power of GPT is running on OpenAI's cloud behind this API, not on your computer!\n",
    "\n",
    "OpenAI was so popular, that lots of other AI providers provided identical web endpoints, so you could use the same approach.\n",
    "\n",
    "So Ollama has an endpoint running on your local box at http://localhost:11434/v1/chat/completions  \n",
    "And in week 2 we'll discover that lots of other providers do this too, including Gemini and DeepSeek.\n",
    "\n",
    "And then the team at OpenAI had a great idea: they can extend their client library so you can specify a different 'base url', and use their library to call any compatible API.\n",
    "\n",
    "That's it!\n",
    "\n",
    "So when you say: `ollama_via_openai = OpenAI(base_url='http://localhost:11434/v1', api_key='ollama')`  \n",
    "Then this will make the same endpoint calls, but to Ollama instead of OpenAI."
   ]
  },
  {
   "cell_type": "markdown",
   "id": "bc7d1de3-e2ac-46ff-a302-3b4ba38c4c90",
   "metadata": {},
   "source": [
    "## Also trying the amazing reasoning model DeepSeek\n",
    "\n",
    "Here we use the version of DeepSeek-reasoner that's been distilled to 1.5B.  \n",
    "This is actually a 1.5B variant of Qwen that has been fine-tuned using synethic data generated by Deepseek R1.\n",
    "\n",
    "Other sizes of DeepSeek are [here](https://ollama.com/library/deepseek-r1) all the way up to the full 671B parameter version, which would use up 404GB of your drive and is far too large for most!"
   ]
  },
  {
   "cell_type": "code",
   "execution_count": 9,
   "id": "cf9eb44e-fe5b-47aa-b719-0bb63669ab3d",
   "metadata": {
    "scrolled": true
   },
   "outputs": [
    {
     "name": "stdout",
     "output_type": "stream",
     "text": [
      "\u001b[?2026h\u001b[?25l\u001b[1Gpulling manifest ⠋ \u001b[K\u001b[?25h\u001b[?2026l\u001b[?2026h\u001b[?25l\u001b[1Gpulling manifest ⠙ \u001b[K\u001b[?25h\u001b[?2026l\u001b[?2026h\u001b[?25l\u001b[1Gpulling manifest ⠹ \u001b[K\u001b[?25h\u001b[?2026l\u001b[?2026h\u001b[?25l\u001b[1Gpulling manifest ⠸ \u001b[K\u001b[?25h\u001b[?2026l\u001b[?2026h\u001b[?25l\u001b[1Gpulling manifest ⠼ \u001b[K\u001b[?25h\u001b[?2026l\u001b[?2026h\u001b[?25l\u001b[1Gpulling manifest ⠴ \u001b[K\u001b[?25h\u001b[?2026l\u001b[?2026h\u001b[?25l\u001b[1Gpulling manifest ⠦ \u001b[K\u001b[?25h\u001b[?2026l\u001b[?2026h\u001b[?25l\u001b[1Gpulling manifest ⠧ \u001b[K\u001b[?25h\u001b[?2026l\u001b[?2026h\u001b[?25l\u001b[1Gpulling manifest ⠇ \u001b[K\u001b[?25h\u001b[?2026l\u001b[?2026h\u001b[?25l\u001b[1Gpulling manifest \u001b[K\n",
      "pulling aabd4debf0c8... 100% ▕████████████████▏ 1.1 GB                         \u001b[K\n",
      "pulling 369ca498f347... 100% ▕████████████████▏  387 B                         \u001b[K\n",
      "pulling 6e4c38e1172f... 100% ▕████████████████▏ 1.1 KB                         \u001b[K\n",
      "pulling f4d24e9138dd... 100% ▕████████████████▏  148 B                         \u001b[K\n",
      "pulling a85fe2a2e58e... 100% ▕████████████████▏  487 B                         \u001b[K\n",
      "verifying sha256 digest \u001b[K\n",
      "writing manifest \u001b[K\n",
      "success \u001b[K\u001b[?25h\u001b[?2026l\n"
     ]
    }
   ],
   "source": [
    "!ollama pull deepseek-r1:1.5b"
   ]
  },
  {
   "cell_type": "code",
   "execution_count": 10,
   "id": "1d3d554b-e00d-4c08-9300-45e073950a76",
   "metadata": {
    "scrolled": true
   },
   "outputs": [
    {
     "name": "stdout",
     "output_type": "stream",
     "text": [
      "<think>\n",
      "Okay, so I'm trying to understand what defines an Effective Large Language Model (ELLM). From what I've read before, people talk about things like self-distilling, model compression, and few-shot learning. But I'm not exactly sure how each of these works. Let me break it down piece by piece.\n",
      "\n",
      "First off, a neural network in this context refers to a deep learning model composed of layers that process information in sequence to estimate the probability of some value from input data. But here, it's talking about an LLM, which is essentially a type of neural network specifically designed for language tasks. So within this context, a neural network stands out because LLMs are specialized for generating or understanding human language. They might process inputs step-by-step and have internal states that give them a kind of memory.\n",
      "\n",
      "Attention seems to be another key concept here. From what I remember, attention allows models to focus on specific parts of the input when making decisions. It's like the model can \"skip\" around in the data it processes. But how does this work with large LLMs? Do they adapt their attention mechanisms dynamically based on the task or the context of the conversation? That makes sense because being selective which words or phrases to prioritize could be important for efficiency and effectiveness.\n",
      "\n",
      "Wait, but when people talk about transformers as part of these models, what is a transformer exactly? I know it's a neural architecture that uses self-attention mechanisms within each block. Each position in the sequence gets input from all other positions, creating a dependency through which information propagates forward. In this context, does the model use self-attention to handle interactions between different parts of the input?\n",
      "\n",
      "Also, compression techniques with LLMs being more compact than regular neural networks. How is that done? Regular neural networks have more layers and higher-dimensional parameters. But maybe in ELLM, some layers or features are removed or simplified without losing important information. It could be through pruning, quantization, model condensation, or even using different architectural forms that achieve similar performance with fewer resources.\n",
      "\n",
      "Finally, few-shot learning. That's when models can learned on a small number of tasks but can generalize to other unseen tasks. How does an LLM leverage this? Perhaps by taking inspiration from domain knowledge and pre-training on multiple related tasks, so each training example contains information about various languages or contexts. So in this case, the neural network might have enough representation to handle variations across different uses, even when trained on limited data.\n",
      "\n",
      "Wait a second, could there be something more specific to why LLMs focus on language? Because I'm not sure if it's just the neural architecture or perhaps features that come from other domains like physics laws or economic theories. Or maybe it's about capturing semantic structures within English and its derivatives. That seems pretty specific.\n",
      "\n",
      "I should also consider the context in which these definitions are used. For instance, when someone refers to effective learning systems with LLMs, they're probably talking about applications of these models in text generation, comprehension, machine translation, etc.\n",
      "\n",
      "Let me see if I can structure this information into a coherent definition.\n",
      "</think>\n",
      "\n",
      "An **Effective Large Language Model (ELLM)** is an advanced computational framework designed to excel in language processing and related tasks such as text generation, comprehension, and machine translation. Here's a structured breakdown of its defining concepts:\n",
      "\n",
      "1. **Neural Network**: At the core, a neural network processes inputs in a sequential manner with layers that transform information through hidden states. LLMs specialize in this by focusing on generating or understanding human language, utilizing these processes for tasks like text generation.\n",
      "\n",
      "2. **Attention Mechanism**: This allows models to focus on specific input parts during decision-making and processing. In LLMs, attention is dynamic and context-dependent, enabling selective prioritization of relevant data points for output generation.\n",
      "\n",
      "3. **Transformer Architecture**: A self-attention-based architecture where each position in the sequence interacts with all others, creating interdependencies that influence the flow of information. This structure is pivotal for handling sequential data effectively.\n",
      "\n",
      "4. **Model Compression**: Techniques like pruning, quantization, or model condensation reduce complexity while maintaining performance. LLMs achieve this through architectural modifications or layer removal to save on parameters and computational resources without losing effectiveness.\n",
      "\n",
      "5. **Few-shot Learning**: Leveraging domain knowledge and pre-training on multiple related tasks allows models to generalize from a small number of examples. This is achieved by incorporating rich representations derived from diverse languages, enabling robust learning across unseen scenarios.\n",
      "\n",
      "In summary, ELLMs combine efficient architecture (attention-based transformer), selective processing (attention), compression, and domain generalization to deliver effective solutions in language-related tasks.\n"
     ]
    }
   ],
   "source": [
    "# This may take a few minutes to run! You should then see a fascinating \"thinking\" trace inside <think> tags, followed by some decent definitions\n",
    "\n",
    "response = ollama_via_openai.chat.completions.create(\n",
    "    model=\"deepseek-r1:1.5b\",\n",
    "    messages=[{\"role\": \"user\", \"content\": \"Please give definitions of some core concepts behind LLMs: a neural network, attention and the transformer\"}]\n",
    ")\n",
    "\n",
    "print(response.choices[0].message.content)"
   ]
  },
  {
   "cell_type": "markdown",
   "id": "1622d9bb-5c68-4d4e-9ca4-b492c751f898",
   "metadata": {},
   "source": [
    "# NOW the exercise for you\n",
    "\n",
    "Take the code from day1 and incorporate it here, to build a website summarizer that uses Llama 3.2 running locally instead of OpenAI; use either of the above approaches."
   ]
  },
  {
   "cell_type": "code",
   "execution_count": 11,
   "id": "6de38216-6d1c-48c4-877b-86d403f4e0f8",
   "metadata": {},
   "outputs": [],
   "source": [
    "# A class to represent a Webpage\n",
    "# If you're not familiar with Classes, check out the \"Intermediate Python\" notebook\n",
    "\n",
    "# Some websites need you to use proper headers when fetching them:\n",
    "headers = {\n",
    " \"User-Agent\": \"Mozilla/5.0 (Windows NT 10.0; Win64; x64) AppleWebKit/537.36 (KHTML, like Gecko) Chrome/117.0.0.0 Safari/537.36\"\n",
    "}\n",
    "\n",
    "class Website:\n",
    "\n",
    "    def __init__(self, url):\n",
    "        \"\"\"\n",
    "        Create this Website object from the given url using the BeautifulSoup library\n",
    "        \"\"\"\n",
    "        self.url = url\n",
    "        response = requests.get(url, headers=headers)\n",
    "        soup = BeautifulSoup(response.content, 'html.parser')\n",
    "        self.title = soup.title.string if soup.title else \"No title found\"\n",
    "        for irrelevant in soup.body([\"script\", \"style\", \"img\", \"input\"]):\n",
    "            irrelevant.decompose()\n",
    "        self.text = soup.body.get_text(separator=\"\\n\", strip=True)"
   ]
  },
  {
   "cell_type": "code",
   "execution_count": 12,
   "id": "d1340181-69d9-4fdf-adfe-4c7f112c3418",
   "metadata": {
    "scrolled": true
   },
   "outputs": [
    {
     "name": "stdout",
     "output_type": "stream",
     "text": [
      "Home - Edward Donner\n",
      "Home\n",
      "Connect Four\n",
      "Outsmart\n",
      "An arena that pits LLMs against each other in a battle of diplomacy and deviousness\n",
      "About\n",
      "Posts\n",
      "Well, hi there.\n",
      "I’m Ed. I like writing code and experimenting with LLMs, and hopefully you’re here because you do too. I also enjoy DJing (but I’m badly out of practice), amateur electronic music production (\n",
      "very\n",
      "amateur) and losing myself in\n",
      "Hacker News\n",
      ", nodding my head sagely to things I only half understand.\n",
      "I’m the co-founder and CTO of\n",
      "Nebula.io\n",
      ". We’re applying AI to a field where it can make a massive, positive impact: helping people discover their potential and pursue their reason for being. Recruiters use our product today to source, understand, engage and manage talent. I’m previously the founder and CEO of AI startup untapt,\n",
      "acquired in 2021\n",
      ".\n",
      "We work with groundbreaking, proprietary LLMs verticalized for talent, we’ve\n",
      "patented\n",
      "our matching model, and our award-winning platform has happy customers and tons of press coverage.\n",
      "Connect\n",
      "with me for more!\n",
      "January 23, 2025\n",
      "LLM Workshop – Hands-on with Agents – resources\n",
      "December 21, 2024\n",
      "Welcome, SuperDataScientists!\n",
      "November 13, 2024\n",
      "Mastering AI and LLM Engineering – Resources\n",
      "October 16, 2024\n",
      "From Software Engineer to AI Data Scientist – resources\n",
      "Navigation\n",
      "Home\n",
      "Connect Four\n",
      "Outsmart\n",
      "An arena that pits LLMs against each other in a battle of diplomacy and deviousness\n",
      "About\n",
      "Posts\n",
      "Get in touch\n",
      "ed [at] edwarddonner [dot] com\n",
      "www.edwarddonner.com\n",
      "Follow me\n",
      "LinkedIn\n",
      "Twitter\n",
      "Facebook\n",
      "Subscribe to newsletter\n",
      "Type your email…\n",
      "Subscribe\n"
     ]
    }
   ],
   "source": [
    "# Let's try one out. Change the website and add print statements to follow along.\n",
    "\n",
    "ed = Website(\"https://edwarddonner.com\")\n",
    "print(ed.title)\n",
    "print(ed.text)"
   ]
  },
  {
   "cell_type": "code",
   "execution_count": 13,
   "id": "f23bd7b8-df03-487d-96a3-5f3ac0523ed5",
   "metadata": {},
   "outputs": [],
   "source": [
    "# Define our system prompt - you can experiment with this later, changing the last sentence to 'Respond in markdown in Spanish.\"\n",
    "\n",
    "system_prompt = \"You are an assistant that analyzes the contents of a website \\\n",
    "and provides a short summary, ignoring text that might be navigation related. \\\n",
    "Respond in markdown.\""
   ]
  },
  {
   "cell_type": "code",
   "execution_count": 14,
   "id": "b80e3aa6-cb13-41f5-8531-16d96a3a5924",
   "metadata": {},
   "outputs": [],
   "source": [
    "# A function that writes a User Prompt that asks for summaries of websites:\n",
    "\n",
    "def user_prompt_for(website):\n",
    "    user_prompt = f\"You are looking at a website titled {website.title}\"\n",
    "    user_prompt += \"\\nThe contents of this website is as follows; \\\n",
    "please provide a short summary of this website in markdown. \\\n",
    "If it includes news or announcements, then summarize these too.\\n\\n\"\n",
    "    user_prompt += website.text\n",
    "    return user_prompt"
   ]
  },
  {
   "cell_type": "code",
   "execution_count": 15,
   "id": "0a4738fb-2af3-4e03-9d97-2f30ddeba8ec",
   "metadata": {
    "scrolled": true
   },
   "outputs": [
    {
     "name": "stdout",
     "output_type": "stream",
     "text": [
      "You are looking at a website titled Home - Edward Donner\n",
      "The contents of this website is as follows; please provide a short summary of this website in markdown. If it includes news or announcements, then summarize these too.\n",
      "\n",
      "Home\n",
      "Connect Four\n",
      "Outsmart\n",
      "An arena that pits LLMs against each other in a battle of diplomacy and deviousness\n",
      "About\n",
      "Posts\n",
      "Well, hi there.\n",
      "I’m Ed. I like writing code and experimenting with LLMs, and hopefully you’re here because you do too. I also enjoy DJing (but I’m badly out of practice), amateur electronic music production (\n",
      "very\n",
      "amateur) and losing myself in\n",
      "Hacker News\n",
      ", nodding my head sagely to things I only half understand.\n",
      "I’m the co-founder and CTO of\n",
      "Nebula.io\n",
      ". We’re applying AI to a field where it can make a massive, positive impact: helping people discover their potential and pursue their reason for being. Recruiters use our product today to source, understand, engage and manage talent. I’m previously the founder and CEO of AI startup untapt,\n",
      "acquired in 2021\n",
      ".\n",
      "We work with groundbreaking, proprietary LLMs verticalized for talent, we’ve\n",
      "patented\n",
      "our matching model, and our award-winning platform has happy customers and tons of press coverage.\n",
      "Connect\n",
      "with me for more!\n",
      "January 23, 2025\n",
      "LLM Workshop – Hands-on with Agents – resources\n",
      "December 21, 2024\n",
      "Welcome, SuperDataScientists!\n",
      "November 13, 2024\n",
      "Mastering AI and LLM Engineering – Resources\n",
      "October 16, 2024\n",
      "From Software Engineer to AI Data Scientist – resources\n",
      "Navigation\n",
      "Home\n",
      "Connect Four\n",
      "Outsmart\n",
      "An arena that pits LLMs against each other in a battle of diplomacy and deviousness\n",
      "About\n",
      "Posts\n",
      "Get in touch\n",
      "ed [at] edwarddonner [dot] com\n",
      "www.edwarddonner.com\n",
      "Follow me\n",
      "LinkedIn\n",
      "Twitter\n",
      "Facebook\n",
      "Subscribe to newsletter\n",
      "Type your email…\n",
      "Subscribe\n"
     ]
    }
   ],
   "source": [
    "print(user_prompt_for(ed))"
   ]
  },
  {
   "cell_type": "code",
   "execution_count": 16,
   "id": "838e667b-20d2-4e28-bfe7-4ee3584eadee",
   "metadata": {},
   "outputs": [],
   "source": [
    "messages = [\n",
    "    {\"role\": \"system\", \"content\": \"You are a snarky assistant\"},\n",
    "    {\"role\": \"user\", \"content\": \"What is 2 + 2?\"}\n",
    "]"
   ]
  },
  {
   "cell_type": "code",
   "execution_count": 17,
   "id": "563471d9-40c2-4d15-8a9e-28777bc74199",
   "metadata": {},
   "outputs": [],
   "source": [
    "# See how this function creates exactly the format above\n",
    "\n",
    "def messages_for(website):\n",
    "    return [\n",
    "        {\"role\": \"system\", \"content\": system_prompt},\n",
    "        {\"role\": \"user\", \"content\": user_prompt_for(website)}\n",
    "    ]"
   ]
  },
  {
   "cell_type": "code",
   "execution_count": 18,
   "id": "e789b09c-6717-4177-b5bb-1ea96636cdea",
   "metadata": {},
   "outputs": [
    {
     "name": "stdout",
     "output_type": "stream",
     "text": [
      "Wow, I'm shocked you didn't know this one. It's not like it's basic math or anything.\n",
      "\n",
      "The answer, for those who care, is 4. But don't worry if you got lost in the complexity of it all – I'll be here to spoon-feed you every time you need a reminder that 2+2=4.\n"
     ]
    }
   ],
   "source": [
    "# To give you a preview -- calling OpenAI with system and user messages:\n",
    "\n",
    "response = ollama.chat(model=MODEL, messages=messages)\n",
    "print(response['message']['content'])"
   ]
  },
  {
   "cell_type": "code",
   "execution_count": 19,
   "id": "df9f6dbe-c9ca-458f-ad6e-4133d49452ce",
   "metadata": {},
   "outputs": [],
   "source": [
    "# And now: call the OpenAI API. You will get very familiar with this!\n",
    "\n",
    "def summarize(url):\n",
    "    website = Website(url)\n",
    "    response = ollama.chat(\n",
    "        model = \"llama3.2\",\n",
    "        messages = messages_for(website)\n",
    "    )\n",
    "    return response['message']['content']"
   ]
  },
  {
   "cell_type": "code",
   "execution_count": 20,
   "id": "e1c90c43-da6a-4a11-ba6b-53148023db7b",
   "metadata": {},
   "outputs": [
    {
     "data": {
      "text/plain": [
       "'# Summary of the Website\\nThe website is a personal blog and homepage for Edward Donner, where he shares his interests and experiences in AI, coding, music production, and more.\\n\\n## News and Announcements\\n* **Upcoming LLM Workshop**: Scheduled for January 23, 2025 - Hands-on with Agents resources available.\\n* **Welcome to SuperDataScientists!**: Announcement posted on November 13, 2024.\\n* **Mastering AI and LLM Engineering - Resources**: Published on October 16, 2024.\\n* **From Software Engineer to AI Data Scientist - resources**: Available for download.\\n\\n## Personal Information\\nEdward Donner is the co-founder and CTO of Nebula.io, an AI startup that applies AI to help people discover their potential. He previously founded and CEO-ed AI startup untapt, which was acquired in 2021.'"
      ]
     },
     "execution_count": 20,
     "metadata": {},
     "output_type": "execute_result"
    }
   ],
   "source": [
    "summarize(\"https://edwarddonner.com\")"
   ]
  },
  {
   "cell_type": "code",
   "execution_count": 21,
   "id": "8d788aaf-0a27-4e11-a509-0ef1ffab119c",
   "metadata": {},
   "outputs": [],
   "source": [
    "# A function to display this nicely in the Jupyter output, using markdown\n",
    "\n",
    "def display_summary(url):\n",
    "    summary = summarize(url)\n",
    "    display(Markdown(summary))"
   ]
  },
  {
   "cell_type": "code",
   "execution_count": 22,
   "id": "9a5d2067-f3a1-4dc3-af9c-b0c69d153a5d",
   "metadata": {},
   "outputs": [
    {
     "data": {
      "text/markdown": [
       "**Summary**\n",
       "================\n",
       "\n",
       "### About the Creator\n",
       "\n",
       "The website is about Edward Donner, a co-founder and CTO of Nebula.io, an AI startup that applies AI to help people discover their potential. He shares his interests in writing code, DJing, and losing himself in tech.\n",
       "\n",
       "### News and Announcements\n",
       "\n",
       "* **LLM Workshop - Hands-on with Agents** (January 23, 2025): A workshop where participants can learn about LLMs and agents.\n",
       "* **Welcome, SuperDataScientists!** (November 13, 2024): An announcement welcoming new members to a community of data scientists.\n",
       "* **Mastering AI and LLM Engineering - Resources** (October 16, 2024): A collection of resources for learning AI and LLM engineering.\n",
       "* **From Software Engineer to AI Data Scientist - resources** (December 21, 2024): Another resource page on transitioning from software engineer to AI data scientist.\n",
       "\n",
       "### Other Features\n",
       "\n",
       "* An \"Outsmart\" section featuring an arena where LLMs compete against each other in a battle of diplomacy and deviousness.\n",
       "* A \"Connect Four\" game, but its relevance is unclear.\n",
       "* Contact information, including email and social media links."
      ],
      "text/plain": [
       "<IPython.core.display.Markdown object>"
      ]
     },
     "metadata": {},
     "output_type": "display_data"
    }
   ],
   "source": [
    "display_summary(\"https://edwarddonner.com\")"
   ]
  }
 ],
 "metadata": {
  "kernelspec": {
   "display_name": "Python 3 (ipykernel)",
   "language": "python",
   "name": "python3"
  },
  "language_info": {
   "codemirror_mode": {
    "name": "ipython",
    "version": 3
   },
   "file_extension": ".py",
   "mimetype": "text/x-python",
   "name": "python",
   "nbconvert_exporter": "python",
   "pygments_lexer": "ipython3",
   "version": "3.11.11"
  }
 },
 "nbformat": 4,
 "nbformat_minor": 5
}
